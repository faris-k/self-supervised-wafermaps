{
 "cells": [
  {
   "attachments": {},
   "cell_type": "markdown",
   "metadata": {},
   "source": [
    "# MixedWM38 Preprocessing\n",
    "\n",
    "This notebook contains the preprocessing steps for the MixedWM38 dataset. We walk through the steps of loading the data, cleaning it, and saving it in a format that is ready for use."
   ]
  },
  {
   "cell_type": "code",
   "execution_count": 1,
   "metadata": {},
   "outputs": [],
   "source": [
    "# !pip install --upgrade kaggle pandas"
   ]
  },
  {
   "attachments": {},
   "cell_type": "markdown",
   "metadata": {},
   "source": [
    "## Imports"
   ]
  },
  {
   "cell_type": "code",
   "execution_count": 2,
   "metadata": {},
   "outputs": [],
   "source": [
    "import os\n",
    "\n",
    "import kaggle\n",
    "import matplotlib.pyplot as plt\n",
    "import numpy as np\n",
    "import pandas as pd\n",
    "import seaborn as sns\n",
    "from sklearn.model_selection import train_test_split\n",
    "\n",
    "from ssl_wafermap.utilities.transforms import rgb_scale"
   ]
  },
  {
   "attachments": {},
   "cell_type": "markdown",
   "metadata": {},
   "source": [
    "## Downloading the Data"
   ]
  },
  {
   "attachments": {},
   "cell_type": "markdown",
   "metadata": {},
   "source": [
    "The dataset is publicly availble at https://www.kaggle.com/datasets/co1d7era/mixedtype-wafer-defect-datasets, and we're after the `Wafer_Map_Dataset.npz` file. All files in the Kaggle dataset can be downloaded using the Kaggle API."
   ]
  },
  {
   "cell_type": "code",
   "execution_count": 3,
   "metadata": {},
   "outputs": [
    {
     "name": "stdout",
     "output_type": "stream",
     "text": [
      "Downloading mixedtype-wafer-defect-datasets.zip to ../data/raw/MixedWM38\n"
     ]
    },
    {
     "name": "stderr",
     "output_type": "stream",
     "text": [
      "100%|██████████| 21.8M/21.8M [00:00<00:00, 54.0MB/s]\n"
     ]
    },
    {
     "name": "stdout",
     "output_type": "stream",
     "text": [
      "\n"
     ]
    }
   ],
   "source": [
    "save_path = \"../data/raw/MixedWM38/\"\n",
    "dataset = \"co1d7era/mixedtype-wafer-defect-datasets\"\n",
    "\n",
    "kaggle.api.authenticate()\n",
    "kaggle.api.dataset_download_files(dataset, path=save_path, quiet=False, unzip=True)\n",
    "\n",
    "data = np.load(os.path.join(save_path, \"Wafer_Map_Datasets.npz\"))\n",
    "# data.files -> ['arr_0', 'arr_1']\n",
    "wafer_maps = data[\"arr_0\"]\n",
    "labels = data[\"arr_1\"]"
   ]
  },
  {
   "attachments": {},
   "cell_type": "markdown",
   "metadata": {},
   "source": [
    "## Cleaning the Data\n",
    "\n",
    "Binary wafer maps can only have three distinct pixel values corresponding to passing die, failing die, and non-wafer area. Some of the wafer maps in this dataset have four unique pixel values, and they're all the \"Near-Full\" type wafer maps. These were created by GANs so it's possible that some poor data was used for training. Moreover, you can easily tell that the incorrect interpolation mode was used to create these synthetic wafer maps, but I digress. \n",
    "\n",
    "Here, we show that there are some \"bad\" wafer maps that have values `{0, 1, 2, 3}` instead of just `{0, 1, 2}`."
   ]
  },
  {
   "cell_type": "code",
   "execution_count": 4,
   "metadata": {},
   "outputs": [
    {
     "name": "stdout",
     "output_type": "stream",
     "text": [
      "Unique pixel values before cleaning: {0, 1, 2, 3}\n",
      "Number of bad wafers: 105\n"
     ]
    },
    {
     "data": {
      "image/png": "[encoded data removed]",
      "text/plain": [
       "<Figure size 640x480 with 2 Axes>"
      ]
     },
     "metadata": {},
     "output_type": "display_data"
    }
   ],
   "source": [
    "wafers = [wafer for wafer in wafer_maps]\n",
    "labels = [label for label in labels]\n",
    "\n",
    "# Show the number of unique pixel values in the uncleaned data\n",
    "unique_pixels = set()\n",
    "bad_wafers = []\n",
    "for wafer in wafers:\n",
    "    vals = np.unique(wafer).tolist()\n",
    "    if len(vals) > 3:\n",
    "        bad_wafers.append(wafer)\n",
    "    unique_pixels.update(vals)\n",
    "\n",
    "print(f\"Unique pixel values before cleaning: {unique_pixels}\")\n",
    "print(f\"Number of bad wafers: {len(bad_wafers)}\")\n",
    "\n",
    "# Show one of the bad wafers in the ugliest color scheme possible\n",
    "sns.heatmap(bad_wafers[0], cmap=\"rainbow\", square=True)\n",
    "plt.title(\"Bad Wafer\")\n",
    "plt.axis(\"off\")\n",
    "plt.show()"
   ]
  },
  {
   "attachments": {},
   "cell_type": "markdown",
   "metadata": {},
   "source": [
    "As someone who works in the semiconductor industry, I've never seen a wafer as wonky as these ones. I'm not sure how they were created, but I'm guessing that the interpolation mode was not set to `NEAREST` when creating the synthetic wafer maps. Still, we can use these if we replace all the `3` values with `2`'s in the wafer maps."
   ]
  },
  {
   "cell_type": "code",
   "execution_count": 5,
   "metadata": {},
   "outputs": [
    {
     "name": "stdout",
     "output_type": "stream",
     "text": [
      "Unique pixel values after cleaning: {0, 1, 2}\n"
     ]
    }
   ],
   "source": [
    "for wafer in wafer_maps:\n",
    "    wafer[wafer == 3] = 2\n",
    "\n",
    "# Show the number of unique pixel values in the cleaned data\n",
    "unique_pixels = set()\n",
    "for wafer in wafers:\n",
    "    unique_pixels.update(np.unique(wafer).tolist())\n",
    "\n",
    "print(f\"Unique pixel values after cleaning: {unique_pixels}\")"
   ]
  },
  {
   "attachments": {},
   "cell_type": "markdown",
   "metadata": {},
   "source": [
    "## Splitting the Data\n",
    "\n",
    "Now we split the data into training, validation, and test sets. We also save the data in a format that is ready for use."
   ]
  },
  {
   "cell_type": "code",
   "execution_count": 6,
   "metadata": {},
   "outputs": [
    {
     "data": {
      "text/html": [
       "<div>\n",
       "<style scoped>\n",
       "    .dataframe tbody tr th:only-of-type {\n",
       "        vertical-align: middle;\n",
       "    }\n",
       "\n",
       "    .dataframe tbody tr th {\n",
       "        vertical-align: top;\n",
       "    }\n",
       "\n",
       "    .dataframe thead th {\n",
       "        text-align: right;\n",
       "    }\n",
       "</style>\n",
       "<table border=\"1\" class=\"dataframe\">\n",
       "  <thead>\n",
       "    <tr style=\"text-align: right;\">\n",
       "      <th></th>\n",
       "      <th>waferMap</th>\n",
       "      <th>label</th>\n",
       "    </tr>\n",
       "  </thead>\n",
       "  <tbody>\n",
       "    <tr>\n",
       "      <th>0</th>\n",
       "      <td>[[0, 0, 0, 0, 0, 0, 0, 0, 0, 0, 0, 0, 0, 0, 0,...</td>\n",
       "      <td>[1, 0, 1, 0, 0, 0, 1, 0]</td>\n",
       "    </tr>\n",
       "    <tr>\n",
       "      <th>1</th>\n",
       "      <td>[[0, 0, 0, 0, 0, 0, 0, 0, 0, 0, 0, 0, 0, 0, 0,...</td>\n",
       "      <td>[1, 0, 1, 0, 0, 0, 1, 0]</td>\n",
       "    </tr>\n",
       "    <tr>\n",
       "      <th>2</th>\n",
       "      <td>[[0, 0, 0, 0, 0, 0, 0, 0, 0, 0, 0, 0, 0, 0, 0,...</td>\n",
       "      <td>[1, 0, 1, 0, 0, 0, 1, 0]</td>\n",
       "    </tr>\n",
       "    <tr>\n",
       "      <th>3</th>\n",
       "      <td>[[0, 0, 0, 0, 0, 0, 0, 0, 0, 0, 0, 0, 0, 0, 0,...</td>\n",
       "      <td>[1, 0, 1, 0, 0, 0, 1, 0]</td>\n",
       "    </tr>\n",
       "    <tr>\n",
       "      <th>4</th>\n",
       "      <td>[[0, 0, 0, 0, 0, 0, 0, 0, 0, 0, 0, 0, 0, 0, 0,...</td>\n",
       "      <td>[1, 0, 1, 0, 0, 0, 1, 0]</td>\n",
       "    </tr>\n",
       "    <tr>\n",
       "      <th>...</th>\n",
       "      <td>...</td>\n",
       "      <td>...</td>\n",
       "    </tr>\n",
       "    <tr>\n",
       "      <th>38010</th>\n",
       "      <td>[[0, 0, 0, 0, 0, 0, 0, 0, 0, 0, 0, 0, 0, 0, 0,...</td>\n",
       "      <td>[0, 0, 0, 0, 0, 0, 1, 0]</td>\n",
       "    </tr>\n",
       "    <tr>\n",
       "      <th>38011</th>\n",
       "      <td>[[0, 0, 0, 0, 0, 0, 0, 0, 0, 0, 0, 0, 0, 0, 0,...</td>\n",
       "      <td>[0, 0, 0, 0, 0, 0, 1, 0]</td>\n",
       "    </tr>\n",
       "    <tr>\n",
       "      <th>38012</th>\n",
       "      <td>[[0, 0, 0, 0, 0, 0, 0, 0, 0, 0, 0, 0, 0, 0, 0,...</td>\n",
       "      <td>[0, 0, 0, 0, 0, 0, 1, 0]</td>\n",
       "    </tr>\n",
       "    <tr>\n",
       "      <th>38013</th>\n",
       "      <td>[[0, 0, 0, 0, 0, 0, 0, 0, 0, 0, 0, 0, 0, 0, 0,...</td>\n",
       "      <td>[0, 0, 0, 0, 0, 0, 1, 0]</td>\n",
       "    </tr>\n",
       "    <tr>\n",
       "      <th>38014</th>\n",
       "      <td>[[0, 0, 0, 0, 0, 0, 0, 0, 0, 0, 0, 0, 0, 0, 0,...</td>\n",
       "      <td>[0, 0, 0, 0, 0, 0, 1, 0]</td>\n",
       "    </tr>\n",
       "  </tbody>\n",
       "</table>\n",
       "<p>38015 rows × 2 columns</p>\n",
       "</div>"
      ],
      "text/plain": [
       "                                                waferMap   \n",
       "0      [[0, 0, 0, 0, 0, 0, 0, 0, 0, 0, 0, 0, 0, 0, 0,...  \\\n",
       "1      [[0, 0, 0, 0, 0, 0, 0, 0, 0, 0, 0, 0, 0, 0, 0,...   \n",
       "2      [[0, 0, 0, 0, 0, 0, 0, 0, 0, 0, 0, 0, 0, 0, 0,...   \n",
       "3      [[0, 0, 0, 0, 0, 0, 0, 0, 0, 0, 0, 0, 0, 0, 0,...   \n",
       "4      [[0, 0, 0, 0, 0, 0, 0, 0, 0, 0, 0, 0, 0, 0, 0,...   \n",
       "...                                                  ...   \n",
       "38010  [[0, 0, 0, 0, 0, 0, 0, 0, 0, 0, 0, 0, 0, 0, 0,...   \n",
       "38011  [[0, 0, 0, 0, 0, 0, 0, 0, 0, 0, 0, 0, 0, 0, 0,...   \n",
       "38012  [[0, 0, 0, 0, 0, 0, 0, 0, 0, 0, 0, 0, 0, 0, 0,...   \n",
       "38013  [[0, 0, 0, 0, 0, 0, 0, 0, 0, 0, 0, 0, 0, 0, 0,...   \n",
       "38014  [[0, 0, 0, 0, 0, 0, 0, 0, 0, 0, 0, 0, 0, 0, 0,...   \n",
       "\n",
       "                          label  \n",
       "0      [1, 0, 1, 0, 0, 0, 1, 0]  \n",
       "1      [1, 0, 1, 0, 0, 0, 1, 0]  \n",
       "2      [1, 0, 1, 0, 0, 0, 1, 0]  \n",
       "3      [1, 0, 1, 0, 0, 0, 1, 0]  \n",
       "4      [1, 0, 1, 0, 0, 0, 1, 0]  \n",
       "...                         ...  \n",
       "38010  [0, 0, 0, 0, 0, 0, 1, 0]  \n",
       "38011  [0, 0, 0, 0, 0, 0, 1, 0]  \n",
       "38012  [0, 0, 0, 0, 0, 0, 1, 0]  \n",
       "38013  [0, 0, 0, 0, 0, 0, 1, 0]  \n",
       "38014  [0, 0, 0, 0, 0, 0, 1, 0]  \n",
       "\n",
       "[38015 rows x 2 columns]"
      ]
     },
     "execution_count": 6,
     "metadata": {},
     "output_type": "execute_result"
    }
   ],
   "source": [
    "wafers = [rgb_scale(wafer) for wafer in wafers]\n",
    "labels = [label.tolist() for label in labels]\n",
    "\n",
    "df = pd.DataFrame({\"waferMap\": wafers, \"label\": labels})\n",
    "df"
   ]
  },
  {
   "cell_type": "code",
   "execution_count": 7,
   "metadata": {},
   "outputs": [
    {
     "name": "stdout",
     "output_type": "stream",
     "text": [
      "Unique pixel values: {0, 128, 255}\n"
     ]
    }
   ],
   "source": [
    "# Sanity check to make sure data was cleaned correctly\n",
    "unique_vals = set()\n",
    "for wafer in df.waferMap:\n",
    "    vals = np.unique(wafer).tolist()\n",
    "    unique_vals.update(vals)\n",
    "\n",
    "print(f\"Unique pixel values: {unique_vals}\")"
   ]
  },
  {
   "attachments": {},
   "cell_type": "markdown",
   "metadata": {},
   "source": [
    "Although this is a multilabel classification problem, there are 38 unique combinations of these labels. To create stratified splits from the full dataset, we can use these label combinations as their own categories. The cell below adds the label combination (failure type) as a new column to the dataframe, and it also creates columns for each of the 9 types of individual defects to show whether or not they are present in the wafer map."
   ]
  },
  {
   "cell_type": "code",
   "execution_count": 8,
   "metadata": {},
   "outputs": [
    {
     "data": {
      "text/html": [
       "<div>\n",
       "<style scoped>\n",
       "    .dataframe tbody tr th:only-of-type {\n",
       "        vertical-align: middle;\n",
       "    }\n",
       "\n",
       "    .dataframe tbody tr th {\n",
       "        vertical-align: top;\n",
       "    }\n",
       "\n",
       "    .dataframe thead th {\n",
       "        text-align: right;\n",
       "    }\n",
       "</style>\n",
       "<table border=\"1\" class=\"dataframe\">\n",
       "  <thead>\n",
       "    <tr style=\"text-align: right;\">\n",
       "      <th></th>\n",
       "      <th>waferMap</th>\n",
       "      <th>label</th>\n",
       "      <th>failureType</th>\n",
       "      <th>Normal</th>\n",
       "      <th>Center</th>\n",
       "      <th>Donut</th>\n",
       "      <th>Edge-Loc</th>\n",
       "      <th>Edge-Ring</th>\n",
       "      <th>Loc</th>\n",
       "      <th>Near-full</th>\n",
       "      <th>Scratch</th>\n",
       "      <th>Random</th>\n",
       "    </tr>\n",
       "  </thead>\n",
       "  <tbody>\n",
       "    <tr>\n",
       "      <th>13650</th>\n",
       "      <td>[[0, 0, 0, 0, 0, 0, 0, 0, 0, 0, 0, 0, 0, 0, 0,...</td>\n",
       "      <td>[0, 1, 1, 0, 0, 0, 1, 0]</td>\n",
       "      <td>D-EL-S</td>\n",
       "      <td>False</td>\n",
       "      <td>False</td>\n",
       "      <td>True</td>\n",
       "      <td>True</td>\n",
       "      <td>False</td>\n",
       "      <td>False</td>\n",
       "      <td>False</td>\n",
       "      <td>True</td>\n",
       "      <td>False</td>\n",
       "    </tr>\n",
       "    <tr>\n",
       "      <th>26489</th>\n",
       "      <td>[[0, 0, 0, 0, 0, 0, 0, 0, 0, 0, 0, 0, 0, 0, 0,...</td>\n",
       "      <td>[0, 0, 0, 1, 0, 0, 0, 0]</td>\n",
       "      <td>ER</td>\n",
       "      <td>False</td>\n",
       "      <td>False</td>\n",
       "      <td>False</td>\n",
       "      <td>False</td>\n",
       "      <td>True</td>\n",
       "      <td>False</td>\n",
       "      <td>False</td>\n",
       "      <td>False</td>\n",
       "      <td>False</td>\n",
       "    </tr>\n",
       "    <tr>\n",
       "      <th>34528</th>\n",
       "      <td>[[0, 0, 0, 0, 0, 0, 0, 0, 0, 0, 0, 0, 0, 0, 0,...</td>\n",
       "      <td>[0, 0, 0, 0, 0, 0, 0, 0]</td>\n",
       "      <td>Normal</td>\n",
       "      <td>True</td>\n",
       "      <td>False</td>\n",
       "      <td>False</td>\n",
       "      <td>False</td>\n",
       "      <td>False</td>\n",
       "      <td>False</td>\n",
       "      <td>False</td>\n",
       "      <td>False</td>\n",
       "      <td>False</td>\n",
       "    </tr>\n",
       "    <tr>\n",
       "      <th>8253</th>\n",
       "      <td>[[0, 0, 0, 0, 0, 0, 0, 0, 0, 0, 0, 0, 0, 0, 0,...</td>\n",
       "      <td>[1, 0, 0, 1, 1, 0, 0, 0]</td>\n",
       "      <td>C-ER-L</td>\n",
       "      <td>False</td>\n",
       "      <td>True</td>\n",
       "      <td>False</td>\n",
       "      <td>False</td>\n",
       "      <td>True</td>\n",
       "      <td>True</td>\n",
       "      <td>False</td>\n",
       "      <td>False</td>\n",
       "      <td>False</td>\n",
       "    </tr>\n",
       "    <tr>\n",
       "      <th>10777</th>\n",
       "      <td>[[0, 0, 0, 0, 0, 0, 0, 0, 0, 0, 0, 0, 0, 0, 0,...</td>\n",
       "      <td>[1, 0, 0, 0, 1, 0, 0, 0]</td>\n",
       "      <td>C-L</td>\n",
       "      <td>False</td>\n",
       "      <td>True</td>\n",
       "      <td>False</td>\n",
       "      <td>False</td>\n",
       "      <td>False</td>\n",
       "      <td>True</td>\n",
       "      <td>False</td>\n",
       "      <td>False</td>\n",
       "      <td>False</td>\n",
       "    </tr>\n",
       "  </tbody>\n",
       "</table>\n",
       "</div>"
      ],
      "text/plain": [
       "                                                waferMap   \n",
       "13650  [[0, 0, 0, 0, 0, 0, 0, 0, 0, 0, 0, 0, 0, 0, 0,...  \\\n",
       "26489  [[0, 0, 0, 0, 0, 0, 0, 0, 0, 0, 0, 0, 0, 0, 0,...   \n",
       "34528  [[0, 0, 0, 0, 0, 0, 0, 0, 0, 0, 0, 0, 0, 0, 0,...   \n",
       "8253   [[0, 0, 0, 0, 0, 0, 0, 0, 0, 0, 0, 0, 0, 0, 0,...   \n",
       "10777  [[0, 0, 0, 0, 0, 0, 0, 0, 0, 0, 0, 0, 0, 0, 0,...   \n",
       "\n",
       "                          label failureType  Normal  Center  Donut  Edge-Loc   \n",
       "13650  [0, 1, 1, 0, 0, 0, 1, 0]      D-EL-S   False   False   True      True  \\\n",
       "26489  [0, 0, 0, 1, 0, 0, 0, 0]          ER   False   False  False     False   \n",
       "34528  [0, 0, 0, 0, 0, 0, 0, 0]      Normal    True   False  False     False   \n",
       "8253   [1, 0, 0, 1, 1, 0, 0, 0]      C-ER-L   False    True  False     False   \n",
       "10777  [1, 0, 0, 0, 1, 0, 0, 0]         C-L   False    True  False     False   \n",
       "\n",
       "       Edge-Ring    Loc  Near-full  Scratch  Random  \n",
       "13650      False  False      False     True   False  \n",
       "26489       True  False      False    False   False  \n",
       "34528      False  False      False    False   False  \n",
       "8253        True   True      False    False   False  \n",
       "10777      False   True      False    False   False  "
      ]
     },
     "execution_count": 8,
     "metadata": {},
     "output_type": "execute_result"
    }
   ],
   "source": [
    "label_mapping ={\n",
    "    # Single-type defects\n",
    "    \"Normal\": [0, 0, 0, 0, 0, 0, 0, 0],\n",
    "    \"C\": [1, 0, 0, 0, 0, 0, 0, 0],\n",
    "    \"D\": [0, 1, 0, 0, 0, 0, 0, 0],\n",
    "    \"EL\": [0, 0, 1, 0, 0, 0, 0, 0],\n",
    "    \"ER\": [0, 0, 0, 1, 0, 0, 0, 0],\n",
    "    \"L\": [0, 0, 0, 0, 1, 0, 0, 0],\n",
    "    \"NF\": [0, 0, 0, 0, 0, 1, 0, 0],\n",
    "    \"S\": [0, 0, 0, 0, 0, 0, 1, 0],\n",
    "    \"R\": [0, 0, 0, 0, 0, 0, 0, 1],\n",
    "    # Two-type defects\n",
    "    \"C-EL\": [1, 0, 1, 0, 0, 0, 0, 0],\n",
    "    \"C-ER\": [1, 0, 0, 1, 0, 0, 0, 0],\n",
    "    \"C-L\": [1, 0, 0, 0, 1, 0, 0, 0],\n",
    "    \"C-S\": [1, 0, 0, 0, 0, 0, 1, 0],\n",
    "    \"D-EL\": [0, 1, 1, 0, 0, 0, 0, 0],\n",
    "    \"D-ER\": [0, 1, 0, 1, 0, 0, 0, 0],\n",
    "    \"D-L\": [0, 1, 0, 0, 1, 0, 0, 0],\n",
    "    \"D-S\": [0, 1, 0, 0, 0, 0, 1, 0],\n",
    "    \"EL-L\": [0, 0, 1, 0, 1, 0, 0, 0],\n",
    "    \"EL-S\": [0, 0, 1, 0, 0, 0, 1, 0],\n",
    "    \"ER-L\": [0, 0, 0, 1, 1, 0, 0, 0],\n",
    "    \"ER-S\": [0, 0, 0, 1, 0, 0, 1, 0],\n",
    "    \"L-S\": [0, 0, 0, 0, 1, 0, 1, 0],\n",
    "    # Three-type defects\n",
    "    \"C-EL-L\": [1, 0, 1, 0, 1, 0, 0, 0],\n",
    "    \"C-EL-S\": [1, 0, 1, 0, 0, 0, 1, 0],\n",
    "    \"C-ER-L\": [1, 0, 0, 1, 1, 0, 0, 0],\n",
    "    \"C-ER-S\": [1, 0, 0, 1, 0, 0, 1, 0],\n",
    "    \"C-L-S\": [1, 0, 0, 0, 1, 0, 1, 0],\n",
    "    \"D-EL-L\": [0, 1, 1, 0, 1, 0, 0, 0],\n",
    "    \"D-EL-S\": [0, 1, 1, 0, 0, 0, 1, 0],\n",
    "    \"D-ER-L\": [0, 1, 0, 1, 1, 0, 0, 0],\n",
    "    \"D-ER-S\": [0, 1, 0, 1, 0, 0, 1, 0],\n",
    "    \"D-L-S\": [0, 1, 0, 0, 1, 0, 1, 0],\n",
    "    \"EL-L-S\": [0, 0, 1, 0, 1, 0, 1, 0],\n",
    "    \"ER-L-S\": [0, 0, 0, 1, 1, 0, 1, 0],\n",
    "    # Four-type defects\n",
    "    \"C-L-EL-S\": [1, 0, 1, 0, 1, 0, 1, 0],\n",
    "    \"C-L-ER-S\": [1, 0, 0, 1, 1, 0, 1, 0],\n",
    "    \"D-L-EL-S\": [0, 1, 1, 0, 1, 0, 1, 0],\n",
    "    \"D-L-ER-S\": [0, 1, 0, 1, 1, 0, 1, 0],\n",
    "}\n",
    "\n",
    "full_names = {\n",
    "    \"Normal\": \"Normal\",\n",
    "    \"C\": \"Center\",\n",
    "    \"D\": \"Donut\",\n",
    "    \"EL\": \"Edge-Loc\",\n",
    "    \"ER\": \"Edge-Ring\",\n",
    "    \"L\": \"Loc\",\n",
    "    \"NF\": \"Near-full\",\n",
    "    \"S\": \"Scratch\",\n",
    "    \"R\": \"Random\",\n",
    "}\n",
    "\n",
    "# Apply the label-mapping to the dataframe, creating a new column\n",
    "def map_list_to_label(row_list):\n",
    "    for key, value in label_mapping.items():\n",
    "        if row_list == value:\n",
    "            return key\n",
    "\n",
    "df[\"failureType\"] = df.label.apply(map_list_to_label)\n",
    "\n",
    "for key, value in label_mapping.items():\n",
    "    if sum(value) <= 1:\n",
    "        col = full_names[key]\n",
    "        # We want to know if this type of failure is present at all in the multi-label\n",
    "        df[col] = df.failureType.apply(lambda x: True if key in x.split(\"-\") else False)\n",
    "\n",
    "df.sample(5)"
   ]
  },
  {
   "attachments": {},
   "cell_type": "markdown",
   "metadata": {},
   "source": [
    "Now we create stratified splits from the full dataset. We use the label combination as the category for stratification. Files are saved as compressed pickle files."
   ]
  },
  {
   "cell_type": "code",
   "execution_count": 9,
   "metadata": {},
   "outputs": [
    {
     "name": "stdout",
     "output_type": "stream",
     "text": [
      "train_data: 26609 samples (70.0%)\n",
      "val_data: 5703 samples (15.0%)\n",
      "test_data: 5703 samples (15.0%)\n",
      "train_1_split: 381 samples (1.0%)\n",
      "train_5_split: 1901 samples (5.0%)\n",
      "train_10_split: 3802 samples (10.0%)\n",
      "train_20_split: 7602 samples (20.0%)\n"
     ]
    }
   ],
   "source": [
    "# Make the test set 15% of the data\n",
    "trainval_data, test_data = train_test_split(\n",
    "    df, test_size=15 / 100, random_state=42, stratify=df.failureType\n",
    ")\n",
    "# From the remaining 85%, make the validation set 15% of the total data\n",
    "train_data, val_data = train_test_split(\n",
    "    trainval_data,\n",
    "    test_size=15 / 85,\n",
    "    random_state=42,\n",
    "    stratify=trainval_data.failureType,\n",
    ")\n",
    "\n",
    "# Now we create smaller splits for fine-tuning self-supervised models\n",
    "# We want splits roughly corresponding to 1%, 5%, 10%, and 20% of the training data\n",
    "\n",
    "# From the training data (~70%), make the 1% split\n",
    "train_69_split, train_1_split = train_test_split(\n",
    "    train_data,\n",
    "    test_size=1 / 70,\n",
    "    random_state=42,\n",
    "    stratify=train_data.failureType\n",
    ")\n",
    "# Grab a 5% split from the ~69% remaining\n",
    "train_64_split, train_5_split = train_test_split(\n",
    "    train_69_split,\n",
    "    test_size=5 / 69,\n",
    "    random_state=42,\n",
    "    stratify=train_69_split.failureType,\n",
    ")\n",
    "# Grab a 10% split from the ~64% remaining\n",
    "train_54_split, train_10_split = train_test_split(\n",
    "    train_64_split,\n",
    "    test_size=10 / 64,\n",
    "    random_state=42,\n",
    "    stratify=train_64_split.failureType,\n",
    ")\n",
    "# Grab a 20% split from the ~54% remaining\n",
    "train_34_split, train_20_split = train_test_split(\n",
    "    train_54_split,\n",
    "    test_size=20 / 54,\n",
    "    random_state=42,\n",
    "    stratify=train_54_split.failureType,\n",
    ")\n",
    "\n",
    "# Print out the sizes of each split and save them to disk\n",
    "data_path = \"../data/processed/MixedWM38/\"\n",
    "os.makedirs(os.path.join(os.getcwd(), data_path), exist_ok=True)\n",
    "\n",
    "for split in (\n",
    "    train_data,\n",
    "    val_data,\n",
    "    test_data,\n",
    "    train_1_split,\n",
    "    train_5_split,\n",
    "    train_10_split,\n",
    "    train_20_split,\n",
    "):\n",
    "    split_name = [k for k, v in locals().items() if v is split][0]\n",
    "    length = len(split)\n",
    "    fraction = length / len(wafer_maps)\n",
    "    print(f\"{split_name}: {length} samples ({fraction:.1%})\")\n",
    "\n",
    "    # Save the data to a compressed pickle file\n",
    "    split.to_pickle(\n",
    "        f\"../data/processed/MixedWM38/{split_name}.pkl.xz\", compression=\"xz\"\n",
    "    )\n",
    "\n",
    "    # As a sanity check, load the data back in and make sure it's the same\n",
    "    read_split = pd.read_pickle(f\"../data/processed/MixedWM38/{split_name}.pkl.xz\")\n",
    "    assert split.equals(\n",
    "        read_split\n",
    "    ), f\"{split_name} is not the same after saving and loading!\""
   ]
  },
  {
   "attachments": {},
   "cell_type": "markdown",
   "metadata": {},
   "source": [
    "As another sanity check, we'll print out the unique values of the wafer maps (which should be [0, 128, 255]) and plot one."
   ]
  },
  {
   "cell_type": "code",
   "execution_count": 10,
   "metadata": {},
   "outputs": [
    {
     "name": "stdout",
     "output_type": "stream",
     "text": [
      "Unique values in the waferMap: [  0 128 255]\n",
      "Label: [1, 0, 0, 1, 0, 0, 0, 0]\n",
      "Failure type: C-ER\n"
     ]
    },
    {
     "data": {
      "image/png": "[encoded data removed]",
      "text/plain": [
       "<Figure size 640x480 with 1 Axes>"
      ]
     },
     "metadata": {},
     "output_type": "display_data"
    }
   ],
   "source": [
    "sample = df.sample(1).iloc[0]\n",
    "\n",
    "print(f\"Unique values in the waferMap: {np.unique(sample['waferMap'])}\")\n",
    "\n",
    "print(f\"Label: {sample['label']}\")\n",
    "print(f\"Failure type: {sample['failureType']}\")\n",
    "plt.imshow(sample[\"waferMap\"])\n",
    "plt.axis(\"off\")\n",
    "plt.show()"
   ]
  }
 ],
 "metadata": {
  "kernelspec": {
   "display_name": "self-supervised-wafermaps",
   "language": "python",
   "name": "python3"
  },
  "language_info": {
   "codemirror_mode": {
    "name": "ipython",
    "version": 3
   },
   "file_extension": ".py",
   "mimetype": "text/x-python",
   "name": "python",
   "nbconvert_exporter": "python",
   "pygments_lexer": "ipython3",
   "version": "3.10.10"
  },
  "orig_nbformat": 4
 },
 "nbformat": 4,
 "nbformat_minor": 2
}
